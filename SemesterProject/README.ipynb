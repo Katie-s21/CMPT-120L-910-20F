{
 "metadata": {
  "language_info": {
   "codemirror_mode": {
    "name": "ipython",
    "version": 3
   },
   "file_extension": ".py",
   "mimetype": "text/x-python",
   "name": "python",
   "nbconvert_exporter": "python",
   "pygments_lexer": "ipython3",
   "version": 3
  },
  "orig_nbformat": 2
 },
 "nbformat": 4,
 "nbformat_minor": 2,
 "cells": [
  {
   "cell_type": "code",
   "execution_count": null,
   "metadata": {},
   "outputs": [],
   "source": [
    "    To start up my webpage, first, you must make sure you are working in the correct directory. Use the command 'ls' in your python terminal to see what directory you are working in. If you are not in the SemesterProject directory, make your way there using the 'cd' command to navigate your way to it. This command will allow you to enter any local directory you tell it to. This may require you to go through various directories. \n",
    "    Once you have made sure you are in the SemesterProject directory, you must activate the Virtual Environment. To do this, in the python terminal, type 'source env/bin/activate'. The terminal should now indicate that you are working in the Virtual Environment.\n",
    "    Next, you will have to type the 'flask run' command into the terminal. This will produce the URL for the webpage. The URL will be located in the app.log file, which is also located in the SemesterProject folder. \n"
   ]
  }
 ]
}