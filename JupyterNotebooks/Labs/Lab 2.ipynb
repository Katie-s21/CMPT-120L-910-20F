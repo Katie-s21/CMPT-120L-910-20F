{
 "metadata": {
  "language_info": {
   "codemirror_mode": {
    "name": "ipython",
    "version": 3
   },
   "file_extension": ".py",
   "mimetype": "text/x-python",
   "name": "python",
   "nbconvert_exporter": "python",
   "pygments_lexer": "ipython3",
   "version": "3.8.5-final"
  },
  "orig_nbformat": 2,
  "kernelspec": {
   "name": "python38564bit2897b83e16f04b2a83fe4bba7a0cc4ed",
   "display_name": "Python 3.8.5 64-bit"
  }
 },
 "nbformat": 4,
 "nbformat_minor": 2,
 "cells": [
  {
   "cell_type": "markdown",
   "metadata": {},
   "source": [
    "# Lab Two\n",
    "---\n",
    "\n",
    "For this lab we're going to get into logic\n",
    "\n",
    "Our Goals are:\n",
    "- Using Conditionals\n",
    "- Using Loops\n",
    "- Creating a Function\n",
    "- Using a Class"
   ]
  },
  {
   "cell_type": "code",
   "execution_count": 5,
   "metadata": {
    "tags": []
   },
   "outputs": [
    {
     "output_type": "stream",
     "name": "stdout",
     "text": "I can write my paper because the senario was true\n"
    }
   ],
   "source": [
    "# Create an if statement\n",
    "has_paper = True\n",
    "has_pen = True\n",
    "if has_paper and has_pen:\n",
    "    print('I can write my paper because the senario was true')"
   ]
  },
  {
   "cell_type": "code",
   "execution_count": 6,
   "metadata": {
    "tags": []
   },
   "outputs": [
    {
     "output_type": "stream",
     "name": "stdout",
     "text": "I have lots of energy today!\n"
    }
   ],
   "source": [
    "# Create an if else statement\n",
    "worked_yesterday = False\n",
    "if worked_yesterday:\n",
    "    print(\"I am really tired from work yesterday.\")\n",
    "else:\n",
    "    print(\"I have lots of energy today!\")"
   ]
  },
  {
   "cell_type": "code",
   "execution_count": 7,
   "metadata": {
    "tags": []
   },
   "outputs": [
    {
     "output_type": "stream",
     "name": "stdout",
     "text": "I have to work today.\n"
    }
   ],
   "source": [
    "# Create an if elif else statement\n",
    "worked_yesterday = False\n",
    "Have_work_today = True\n",
    "Going_to_beach_today = False\n",
    "if worked_yesterday:\n",
    "    print(\"I am tired today.\")\n",
    "elif Have_work_today and Going_to_beach_today:\n",
    "    print(\"I have a busy day today.\")\n",
    "else: \n",
    "    print(\"I have to work today.\")\n",
    "\n"
   ]
  },
  {
   "cell_type": "code",
   "execution_count": 9,
   "metadata": {
    "tags": []
   },
   "outputs": [
    {
     "output_type": "stream",
     "name": "stdout",
     "text": "0\n1\n2\n3\n4\n5\n6\n7\n8\n9\n"
    }
   ],
   "source": [
    "# Create a for loop using range(). Go from 0 to 9. Print out each number.\n",
    "for value in range(10):\n",
    "    print(value)\n"
   ]
  },
  {
   "cell_type": "code",
   "execution_count": 13,
   "metadata": {
    "tags": []
   },
   "outputs": [
    {
     "output_type": "stream",
     "name": "stdout",
     "text": "Blue\nYellow\nRed\nGreen\nPurple\nMagenta\nLilac\n0\n1\n2\n3\n4\n5\n6\n"
    }
   ],
   "source": [
    "# Create a for loop iterating through this list and printing out the value.\n",
    "arr = ['Blue', 'Yellow', 'Red', 'Green', 'Purple', 'Magenta', 'Lilac']\n",
    "for item in arr:\n",
    "    print(item)\n",
    "# Get the length of the list above and print it.\n",
    "for value in range(7):\n",
    "    print(value)"
   ]
  },
  {
   "cell_type": "code",
   "execution_count": 31,
   "metadata": {
    "tags": []
   },
   "outputs": [
    {
     "output_type": "stream",
     "name": "stdout",
     "text": "We haven't found the secret number yet\nWe found the secret number, it was: 6\nWe haven't found the secret number yet\nWe found the secret number, it was: 6\nWe haven't found the secret number yet\nWe found the secret number, it was: 6\nWe haven't found the secret number yet\nWe found the secret number, it was: 6\nWe haven't found the secret number yet\nWe found the secret number, it was: 6\nWe haven't found the secret number yet\nWe found the secret number, it was: 6\n"
    }
   ],
   "source": [
    "# Create a while loop that ends after 6 times through. Print something for each pass.\n",
    "import random\n",
    "secret_number = random.randint(0, 7)\n",
    "position = 0\n",
    "while position != secret_number:\n",
    "    print(\"We haven't found the secret number yet\")\n",
    "    position += 1\n",
    "    print(\"We found the secret number, it was:\" , secret_number)"
   ]
  },
  {
   "cell_type": "code",
   "execution_count": 2,
   "metadata": {
    "tags": []
   },
   "outputs": [
    {
     "output_type": "stream",
     "name": "stdout",
     "text": "37\n10\n299.99\nTrue\n"
    }
   ],
   "source": [
    "# Create a function to add 2 numbers together. Print out the number"
   ]
  },
  {
   "cell_type": "code",
   "execution_count": null,
   "metadata": {},
   "outputs": [],
   "source": [
    "# Create a function that tells you if a number is odd or even and print the result."
   ]
  },
  {
   "cell_type": "code",
   "execution_count": 44,
   "metadata": {
    "tags": []
   },
   "outputs": [
    {
     "output_type": "stream",
     "name": "stdout",
     "text": "Name: Rosie\nWeight: 6 Pounds\nHeight: 9 Inches\nBreed: Yorkie\n"
    }
   ],
   "source": [
    "# Initialize an instance of the following class. Use a variable to store the object and then call the info function to print out the attributes.\n",
    "class Dog(object):\n",
    "    def __init__(self, name: str, height: int, weight: int, breed: str):\n",
    "        self.name = name\n",
    "        self.height = height\n",
    "        self.weight = weight\n",
    "        self.breed = breed\n",
    "\n",
    "    def info(self):\n",
    "        print(\"Name:\", self.name)\n",
    "        print(\"Weight:\", str(self.weight) + \" Pounds\")\n",
    "        print(\"Height:\", str(self.height) + \" Inches\")\n",
    "        print(\"Breed:\", self.breed)\n",
    "if __name__ == \"__main__\":\n",
    "    Rose = Dog(\"Rosie\", 9, 6, \"Yorkie\")\n",
    "    Rose.info()\n",
    "\n",
    "\n",
    "\n"
   ]
  },
  {
   "cell_type": "code",
   "execution_count": null,
   "metadata": {},
   "outputs": [],
   "source": []
  }
 ]
}