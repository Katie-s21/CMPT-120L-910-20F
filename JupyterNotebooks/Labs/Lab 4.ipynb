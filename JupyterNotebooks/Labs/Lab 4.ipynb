{
 "metadata": {
  "language_info": {
   "codemirror_mode": {
    "name": "ipython",
    "version": 3
   },
   "file_extension": ".py",
   "mimetype": "text/x-python",
   "name": "python",
   "nbconvert_exporter": "python",
   "pygments_lexer": "ipython3",
   "version": 3
  },
  "orig_nbformat": 2
 },
 "nbformat": 4,
 "nbformat_minor": 2,
 "cells": [
  {
   "source": [
    "# Lab Four\n",
    "---\n",
    "\n",
    "For this lab we're going to be messing around with Markdown!\n",
    "\n",
    "Our Goals are:\n",
    "- Using Markdown!\n",
    "\n",
    "I want you to describe to me your process of converting the assignment and making it DRY. \n",
    "\n",
    "Please show the ability to:\n",
    "- Make a header\n",
    "- Make a list (ordered or unordered)\n",
    "- Link the Markdown Guide from the lesson. \n",
    "- Artuculate your thought process."
   ],
   "cell_type": "markdown",
   "metadata": {}
  },
  {
   "source": [
    "# Making Code Dry\n",
    "\n",
    "To make the code from the assignment dry:\n",
    "  \n",
    "    1. I found the magic numbers \n",
    "    2. I then gave them meaning, such as CHECKING_MULTIPLIER = 0.85\n",
    "    3. I then altered the code to include the changes I made to the magic numbers\n",
    "    4. Finally, I attempted to create a function that could simplify the math being done to add money to the account. \n",
    "\n",
    "https://www.markdownguide.org/\n",
    "\n",
    "    \n",
    "\n"
   ],
   "cell_type": "markdown",
   "metadata": {}
  }
 ]
}