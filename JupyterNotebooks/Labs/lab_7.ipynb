{
 "metadata": {
  "language_info": {
   "codemirror_mode": {
    "name": "ipython",
    "version": 3
   },
   "file_extension": ".py",
   "mimetype": "text/x-python",
   "name": "python",
   "nbconvert_exporter": "python",
   "pygments_lexer": "ipython3",
   "version": "3.8.5-final"
  },
  "orig_nbformat": 2,
  "kernelspec": {
   "name": "Python 3.8.5 64-bit",
   "display_name": "Python 3.8.5 64-bit",
   "metadata": {
    "interpreter": {
     "hash": "aee8b7b246df8f9039afb4144a1f6fd8d2ca17a180786b69acc140d282b71a49"
    }
   }
  }
 },
 "nbformat": 4,
 "nbformat_minor": 2,
 "cells": [
  {
   "cell_type": "code",
   "execution_count": 26,
   "metadata": {},
   "outputs": [
    {
     "output_type": "stream",
     "name": "stdout",
     "text": [
      "marist is 👍\nI love my 😺\nI am 😃\n"
     ]
    }
   ],
   "source": [
    "import emoji\n",
    "print(emoji.emojize('marist is :thumbs_up:'))\n",
    "print(emoji.emojize(\"I love my :smiley_cat:\" , use_aliases=True))\n",
    "print(emoji.emojize(\"I am :smiley:\" , use_aliases=True))\n"
   ]
  },
  {
   "cell_type": "code",
   "execution_count": 32,
   "metadata": {},
   "outputs": [
    {
     "output_type": "stream",
     "name": "stdout",
     "text": [
      "marist is :thumbs_up:\nI love my :grinning_cat_face:\nI am :grinning_face_with_big_eyes:\n"
     ]
    }
   ],
   "source": [
    "print(emoji.demojize('marist is 👍'))\n",
    "print(emoji.demojize(\"I love my 😺\"))\n",
    "print(emoji.demojize(\"I am 😃\"))"
   ]
  },
  {
   "cell_type": "code",
   "execution_count": null,
   "metadata": {},
   "outputs": [],
   "source": []
  }
 ]
}