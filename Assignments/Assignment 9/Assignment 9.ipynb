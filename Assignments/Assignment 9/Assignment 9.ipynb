{
 "metadata": {
  "language_info": {
   "codemirror_mode": {
    "name": "ipython",
    "version": 3
   },
   "file_extension": ".py",
   "mimetype": "text/x-python",
   "name": "python",
   "nbconvert_exporter": "python",
   "pygments_lexer": "ipython3",
   "version": "3.8.5-final"
  },
  "orig_nbformat": 2,
  "kernelspec": {
   "name": "python3",
   "display_name": "Python 3"
  }
 },
 "nbformat": 4,
 "nbformat_minor": 2,
 "cells": [
  {
   "cell_type": "code",
   "execution_count": 2,
   "metadata": {},
   "outputs": [
    {
     "output_type": "stream",
     "name": "stdout",
     "text": [
      "12\n6\n2.0\n30\n8\n8.0\n-9\n"
     ]
    }
   ],
   "source": [
    "from Calculator import *\n",
    "\n",
    "print(Calculator.addition(Calculator, 3, 9))\n",
    "print(Calculator.subtraction(Calculator, 8, 2))\n",
    "print(Calculator.division(Calculator, 16, 8))\n",
    "print(Calculator.multiplication(Calculator, 3, 10))\n",
    "print(Calculator.exponent(Calculator, 2, 3))\n",
    "print(Calculator.square_root(Calculator, 64))\n",
    "print(Calculator.negate(Calculator, 9))"
   ]
  },
  {
   "cell_type": "code",
   "execution_count": null,
   "metadata": {},
   "outputs": [],
   "source": []
  }
 ]
}